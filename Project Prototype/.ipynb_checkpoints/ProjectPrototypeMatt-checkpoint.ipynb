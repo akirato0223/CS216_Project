{
 "cells": [
  {
   "cell_type": "markdown",
   "metadata": {},
   "source": [
    "# Project Prototype "
   ]
  },
  {
   "cell_type": "code",
   "execution_count": 1,
   "metadata": {},
   "outputs": [],
   "source": [
    "from scipy import stats\n",
    "import math\n",
    "import seaborn as sns\n",
    "\n",
    "import pandas as pd\n",
    "Mortality = pd.read_csv(\"Mortality Both Sexes.csv\")\n",
    "MortalityF = pd.read_csv(\"Mortality Female.csv\")\n",
    "MortalityM = pd.read_csv(\"Mortality Male.csv\")\n",
    "Alcohol = pd.read_csv(\"WHOAlcoholTotalPerCapita_2021-09-20v2.csv\")"
   ]
  },
  {
   "cell_type": "code",
   "execution_count": 2,
   "metadata": {},
   "outputs": [],
   "source": [
    "Alcohol = Alcohol[Alcohol['Year']>=2000]\n",
    "Alcohol = Alcohol[Alcohol['Year']<=2016]\n",
    "Alcohol = Alcohol.drop(columns = {'WHO Region Code',\n",
    "                                  'Country Code','Alcohol total per capita (15+) consumption in liters (string)'},\n",
    "                       axis= '1')\n",
    "Alcohol = Alcohol[Alcohol['Country']!='Cook Islands']\n",
    "Alcohol = Alcohol[Alcohol['Country']!='Dominica']\n",
    "Alcohol = Alcohol[Alcohol['Country']!='Nauru']\n",
    "Alcohol = Alcohol[Alcohol['Country']!='Niue']\n",
    "Alcohol = Alcohol[Alcohol['Country']!='Saint Kitts and Nevis']\n",
    "Alcohol = Alcohol[Alcohol['Country']!='Surinam']\n",
    "Alcohol = Alcohol[Alcohol['Country']!='Tuvalu']\n",
    "Alcohol = Alcohol[Alcohol['Country']!='Andorra']\n",
    "Alcohol['alc'] = Alcohol['Alcohol total per capita (15+) consumption in liters (numeric)']"
   ]
  },
  {
   "cell_type": "code",
   "execution_count": 3,
   "metadata": {},
   "outputs": [],
   "source": [
    "accidents = pd.read_csv(\"accidents.csv\")\n",
    "accidents.rename(columns = {\"Unnamed: 0\":\"Country\", \"Unnamed: 1\":\"Year\", \n",
    "                            \"Estimated number of road traffic deaths\":\"All road deaths\", \n",
    "                           \"Estimated number of road traffic deaths.1\":\"Male road deaths\",\n",
    "                           \"Estimated number of road traffic deaths.2\":\"Female road deaths\",\n",
    "                           \"Estimated road traffic death rate (per 100 000 population)\":\"Total road death rate\",\n",
    "                           \"Estimated road traffic death rate (per 100 000 population).1\":\"Male road death rate\",\n",
    "                           \"Estimated road traffic death rate (per 100 000 population).2\":\"Female road death rate\"}, inplace=True)\n",
    "accidents = accidents.iloc[1:,:]\n",
    "accidents[\"All road deaths\"] = [num.split(\" \")[0] for num in accidents[\"All road deaths\"]]\n",
    "accidents[\"Male road deaths\"] = [num.split(\" \")[0] for num in accidents[\"Male road deaths\"]]\n",
    "accidents[\"Female road deaths\"] = [num.split(\" \")[0] for num in accidents[\"Female road deaths\"]]\n",
    "accidents[\"Total road death rate\"] = [num.split(\" \")[0] for num in accidents[\"Total road death rate\"]]\n",
    "accidents[\"Male road death rate\"] = [num.split(\" \")[0] for num in accidents[\"Male road death rate\"]]\n",
    "accidents[\"Female road death rate\"] = [num.split(\" \")[0] for num in accidents[\"Female road death rate\"]]\n",
    "accidents[\"All road deaths\"]= accidents[\"All road deaths\"].astype(int)\n",
    "accidents[\"Male road deaths\"] = accidents[\"Male road deaths\"].astype(int)\n",
    "accidents[\"Female road deaths\"] = accidents[\"Female road deaths\"].astype(int)\n",
    "accidents[\"Total road death rate\"] = accidents[\"Total road death rate\"].astype(float)\n",
    "accidents[\"Male road death rate\"] = accidents[\"Male road death rate\"].astype(float)\n",
    "accidents[\"Female road death rate\"] = accidents[\"Female road death rate\"].astype(float)\n",
    "accidents[\"Year\"] = accidents[\"Year\"].astype(int)\n",
    "accidents = accidents[accidents['Year']>=2000]\n",
    "accidents = accidents[accidents['Year']<=2016]"
   ]
  },
  {
   "cell_type": "code",
   "execution_count": 4,
   "metadata": {},
   "outputs": [
    {
     "data": {
      "text/html": [
       "<div>\n",
       "<style scoped>\n",
       "    .dataframe tbody tr th:only-of-type {\n",
       "        vertical-align: middle;\n",
       "    }\n",
       "\n",
       "    .dataframe tbody tr th {\n",
       "        vertical-align: top;\n",
       "    }\n",
       "\n",
       "    .dataframe thead th {\n",
       "        text-align: right;\n",
       "    }\n",
       "</style>\n",
       "<table border=\"1\" class=\"dataframe\">\n",
       "  <thead>\n",
       "    <tr style=\"text-align: right;\">\n",
       "      <th></th>\n",
       "      <th>Country</th>\n",
       "      <th>Year</th>\n",
       "      <th>All road deaths</th>\n",
       "      <th>Male road deaths</th>\n",
       "      <th>Female road deaths</th>\n",
       "      <th>Total road death rate</th>\n",
       "      <th>Male road death rate</th>\n",
       "      <th>Female road death rate</th>\n",
       "    </tr>\n",
       "  </thead>\n",
       "  <tbody>\n",
       "    <tr>\n",
       "      <th>4</th>\n",
       "      <td>Afghanistan</td>\n",
       "      <td>2016</td>\n",
       "      <td>5240</td>\n",
       "      <td>4239</td>\n",
       "      <td>1001</td>\n",
       "      <td>14.8</td>\n",
       "      <td>23.3</td>\n",
       "      <td>5.8</td>\n",
       "    </tr>\n",
       "    <tr>\n",
       "      <th>5</th>\n",
       "      <td>Afghanistan</td>\n",
       "      <td>2015</td>\n",
       "      <td>4942</td>\n",
       "      <td>3981</td>\n",
       "      <td>961</td>\n",
       "      <td>14.4</td>\n",
       "      <td>22.5</td>\n",
       "      <td>5.7</td>\n",
       "    </tr>\n",
       "    <tr>\n",
       "      <th>6</th>\n",
       "      <td>Afghanistan</td>\n",
       "      <td>2014</td>\n",
       "      <td>4693</td>\n",
       "      <td>3750</td>\n",
       "      <td>943</td>\n",
       "      <td>14.1</td>\n",
       "      <td>21.9</td>\n",
       "      <td>5.8</td>\n",
       "    </tr>\n",
       "    <tr>\n",
       "      <th>7</th>\n",
       "      <td>Afghanistan</td>\n",
       "      <td>2013</td>\n",
       "      <td>4506</td>\n",
       "      <td>3575</td>\n",
       "      <td>932</td>\n",
       "      <td>14.0</td>\n",
       "      <td>21.6</td>\n",
       "      <td>5.9</td>\n",
       "    </tr>\n",
       "    <tr>\n",
       "      <th>8</th>\n",
       "      <td>Afghanistan</td>\n",
       "      <td>2012</td>\n",
       "      <td>4296</td>\n",
       "      <td>3405</td>\n",
       "      <td>890</td>\n",
       "      <td>13.8</td>\n",
       "      <td>21.3</td>\n",
       "      <td>5.9</td>\n",
       "    </tr>\n",
       "  </tbody>\n",
       "</table>\n",
       "</div>"
      ],
      "text/plain": [
       "       Country  Year  All road deaths  Male road deaths  Female road deaths  \\\n",
       "4  Afghanistan  2016             5240              4239                1001   \n",
       "5  Afghanistan  2015             4942              3981                 961   \n",
       "6  Afghanistan  2014             4693              3750                 943   \n",
       "7  Afghanistan  2013             4506              3575                 932   \n",
       "8  Afghanistan  2012             4296              3405                 890   \n",
       "\n",
       "   Total road death rate  Male road death rate  Female road death rate  \n",
       "4                   14.8                  23.3                     5.8  \n",
       "5                   14.4                  22.5                     5.7  \n",
       "6                   14.1                  21.9                     5.8  \n",
       "7                   14.0                  21.6                     5.9  \n",
       "8                   13.8                  21.3                     5.9  "
      ]
     },
     "execution_count": 4,
     "metadata": {},
     "output_type": "execute_result"
    }
   ],
   "source": [
    "accidents.head()"
   ]
  },
  {
   "cell_type": "code",
   "execution_count": 5,
   "metadata": {},
   "outputs": [],
   "source": [
    "df = pd.merge(Alcohol,accidents, left_on = ['Country','Year'],right_on = ['Country', 'Year'])\n",
    "\n",
    "\n"
   ]
  },
  {
   "cell_type": "code",
   "execution_count": 6,
   "metadata": {},
   "outputs": [],
   "source": [
    "df = df.groupby('Country').mean()"
   ]
  },
  {
   "cell_type": "code",
   "execution_count": 7,
   "metadata": {},
   "outputs": [
    {
     "data": {
      "text/plain": [
       "-0.2995412121748023"
      ]
     },
     "execution_count": 7,
     "metadata": {},
     "output_type": "execute_result"
    }
   ],
   "source": [
    "df[\"alc\"].corr(df[\"Total road death rate\"])"
   ]
  },
  {
   "cell_type": "markdown",
   "metadata": {},
   "source": [
    "### Question 1\n"
   ]
  },
  {
   "cell_type": "code",
   "execution_count": 8,
   "metadata": {},
   "outputs": [
    {
     "data": {
      "text/plain": [
       "Text(0.5, 1.0, 'Alcohol Consumption v.s. Road Accident Deaths by Country')"
      ]
     },
     "execution_count": 8,
     "metadata": {},
     "output_type": "execute_result"
    },
    {
     "data": {
      "image/png": "[encoded data removed]",
      "text/plain": [
       "<Figure size 360x360 with 1 Axes>"
      ]
     },
     "metadata": {
      "needs_background": "light"
     },
     "output_type": "display_data"
    }
   ],
   "source": [
    "import matplotlib.pyplot as plt\n",
    "sns.relplot(data=df, x='alc', y='Total road death rate')\n",
    "plt.xlabel(\"Alcohol Consumption Per Capita (Liters)\", fontsize=15)\n",
    "plt.ylabel(\"Road Accident Death Rate\", fontsize=15)\n",
    "plt.title(\"Alcohol Consumption v.s. Road Accident Deaths by Country\", fontsize=20)"
   ]
  },
  {
   "cell_type": "code",
   "execution_count": 9,
   "metadata": {},
   "outputs": [
    {
     "data": {
      "text/plain": [
       "-0.2995412121748023"
      ]
     },
     "execution_count": 9,
     "metadata": {},
     "output_type": "execute_result"
    }
   ],
   "source": [
    "df[\"alc\"].corr(df[\"Total road death rate\"])"
   ]
  },
  {
   "cell_type": "code",
   "execution_count": 10,
   "metadata": {},
   "outputs": [
    {
     "data": {
      "text/plain": [
       "-0.3155556243287253"
      ]
     },
     "execution_count": 10,
     "metadata": {},
     "output_type": "execute_result"
    }
   ],
   "source": [
    "df[\"alc\"].corr(df[\"Female road death rate\"])"
   ]
  },
  {
   "cell_type": "code",
   "execution_count": 11,
   "metadata": {},
   "outputs": [
    {
     "data": {
      "text/plain": [
       "-0.2406904431904004"
      ]
     },
     "execution_count": 11,
     "metadata": {},
     "output_type": "execute_result"
    }
   ],
   "source": [
    "df[\"alc\"].corr(df[\"Male road death rate\"])"
   ]
  },
  {
   "cell_type": "code",
   "execution_count": 12,
   "metadata": {},
   "outputs": [
    {
     "name": "stdout",
     "output_type": "stream",
     "text": [
      "Top 10 countries by road death rate\n",
      "1.  Thailand (56th in alc Consumption)\n",
      "2.  Democratic Republic of the Congo (145th in alc Consumption)\n",
      "3.  Zimbabwe (108th in alc Consumption)\n",
      "4.  Liberia (88th in alc Consumption)\n",
      "5.  Rwanda (30th in alc Consumption)\n",
      "6.  Eritrea (128th in alc Consumption)\n",
      "7.  South Africa (39th in alc Consumption)\n",
      "8.  Central African Republic (112th in alc Consumption)\n",
      "9.  Burundi (58th in alc Consumption)\n",
      "10.  Venezuela (Bolivarian Republic of) (50th in alc Consumption)\n"
     ]
    }
   ],
   "source": [
    "sortByDeaths = df.sort_values(by=\"Total road death rate\", ascending=False)\n",
    "sortByAlc = df.sort_values(by=\"alc\", ascending=False)\n",
    "sortByAlc = sortByAlc.reset_index()\n",
    "print(\"Top 10 countries by road death rate\")\n",
    "top10 = df.sort_values(by=\"Total road death rate\", ascending=False)[:10].index.values\n",
    "for i in range(10): \n",
    "    print(str(i+1) + \". \", top10[i] + \" (\"+str(sortByAlc[sortByAlc[\"Country\"]==top10[i]].index.values[0]+1) + \"th in alc Consumption)\")\n"
   ]
  },
  {
   "cell_type": "code",
   "execution_count": 24,
   "metadata": {},
   "outputs": [],
   "source": [
    "alc_med = df[\"alc\"].mean()\n",
    "road_med = df[\"Total road death rate\"].mean()\n",
    "filtered_alc = df[df[\"alc\"] > alc_med]"
   ]
  },
  {
   "cell_type": "markdown",
   "metadata": {},
   "source": [
    "$H0$ is that at most half of the countries that have an alcohol consumption per capita that is greater than the world mean (5.95) will have a road traffic death rate that is lower than the world mean (18.18). <br>\n",
    "$H1$ is that more than half of the countries that have an alcohol consumption per capita that is greater than the world mean (5.95) will have a road traffic death rate that is lower than than the world mean (18.18) <br>\n",
    "$p-value$ is the probability that 50% of the 98 countries that have an alcohol consumption per capita greater than the world mean (5.95) have a road rate of at most 18.18.\n"
   ]
  },
  {
   "cell_type": "code",
   "execution_count": 25,
   "metadata": {},
   "outputs": [
    {
     "name": "stdout",
     "output_type": "stream",
     "text": [
      "p-value is 0.008743005110611796, therefore we reject the null hypothesis.\n"
     ]
    }
   ],
   "source": [
    "pval = stats.ttest_1samp(filtered_alc[\"Total road death rate\"], road_med, alternative=\"less\")[1]\n",
    "print(\"p-value is \" + str(pval) + \", therefore we reject the null hypothesis.\")"
   ]
  },
  {
   "cell_type": "markdown",
   "metadata": {},
   "source": [
    "### Question 2"
   ]
  },
  {
   "cell_type": "code",
   "execution_count": 16,
   "metadata": {},
   "outputs": [
    {
     "name": "stdout",
     "output_type": "stream",
     "text": [
      "                                     Unnamed: 0  Period  Adult mortality rate\n",
      "Location                                                                     \n",
      "Afghanistan                         1566.411765  2008.0            266.335294\n",
      "Albania                             1496.882353  2008.0            101.574706\n",
      "Algeria                             1516.235294  2008.0            113.668824\n",
      "Angola                              1575.235294  2008.0            297.294118\n",
      "Antigua and Barbuda                 1495.117647  2008.0            140.858824\n",
      "...                                         ...     ...                   ...\n",
      "Venezuela (Bolivarian Republic of)  1517.647059  2008.0            166.700000\n",
      "Viet Nam                            1488.882353  2008.0            133.300000\n",
      "Yemen                               1556.235294  2008.0            239.388235\n",
      "Zambia                              1597.705882  2008.0            446.694118\n",
      "Zimbabwe                            1606.529412  2008.0            549.347059\n",
      "\n",
      "[183 rows x 3 columns]\n"
     ]
    }
   ],
   "source": [
    "byLocation = Mortality.groupby('Location').mean()\n",
    "print(byLocation)"
   ]
  },
  {
   "cell_type": "markdown",
   "metadata": {},
   "source": [
    "### Question 3\n"
   ]
  },
  {
   "cell_type": "code",
   "execution_count": 17,
   "metadata": {},
   "outputs": [],
   "source": [
    "from sklearn.linear_model import LinearRegression\n",
    "from sklearn.linear_model import LogisticRegression\n",
    "\n",
    "from sklearn.model_selection import train_test_split\n",
    "from sklearn.metrics import mean_squared_error\n",
    "from sklearn.metrics import r2_score\n"
   ]
  },
  {
   "cell_type": "markdown",
   "metadata": {},
   "source": [
    "### Question 4"
   ]
  },
  {
   "cell_type": "code",
   "execution_count": 18,
   "metadata": {},
   "outputs": [
    {
     "data": {
      "text/plain": [
       "LinearRegression()"
      ]
     },
     "execution_count": 18,
     "metadata": {},
     "output_type": "execute_result"
    }
   ],
   "source": [
    "df = df.dropna()\n",
    "data = df[[\"alc\"]].values\n",
    "target = df[\"Total road death rate\"].values\n",
    "\n",
    "\n",
    "linear_model = LinearRegression()\n",
    "linear_model.fit(X=data, y=target)\n",
    "\n",
    "\n"
   ]
  },
  {
   "cell_type": "code",
   "execution_count": 19,
   "metadata": {},
   "outputs": [
    {
     "name": "stdout",
     "output_type": "stream",
     "text": [
      "MSE: 63.237127437611186 r^2: 0.08972493779114976\n"
     ]
    }
   ],
   "source": [
    "\n",
    "df[\"predicted_dr\"] = linear_model.predict(data)\n",
    "mse = mean_squared_error(df[\"Total road death rate\"].values, df[\"predicted_dr\"].values) # float: MSE\n",
    "r2 = r2_score(df[\"Total road death rate\"].values, df[\"predicted_dr\"].values)  # float: R^2 score\n",
    "\n",
    "print(\"MSE:\", mse, \"r^2:\", r2)"
   ]
  },
  {
   "cell_type": "code",
   "execution_count": 26,
   "metadata": {},
   "outputs": [
    {
     "data": {
      "text/plain": [
       "5.9488685507722625"
      ]
     },
     "execution_count": 26,
     "metadata": {},
     "output_type": "execute_result"
    }
   ],
   "source": [
    "alc_med"
   ]
  },
  {
   "cell_type": "code",
   "execution_count": 21,
   "metadata": {},
   "outputs": [
    {
     "data": {
      "text/plain": [
       "18.176993098915542"
      ]
     },
     "execution_count": 21,
     "metadata": {},
     "output_type": "execute_result"
    }
   ],
   "source": [
    "road_med"
   ]
  },
  {
   "cell_type": "code",
   "execution_count": null,
   "metadata": {},
   "outputs": [],
   "source": []
  }
 ],
 "metadata": {
  "kernelspec": {
   "display_name": "Python 3 (ipykernel)",
   "language": "python",
   "name": "python3"
  },
  "language_info": {
   "codemirror_mode": {
    "name": "ipython",
    "version": 3
   },
   "file_extension": ".py",
   "mimetype": "text/x-python",
   "name": "python",
   "nbconvert_exporter": "python",
   "pygments_lexer": "ipython3",
   "version": "3.9.7"
  }
 },
 "nbformat": 4,
 "nbformat_minor": 4
}
