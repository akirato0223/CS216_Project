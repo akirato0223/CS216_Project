{
 "cells": [
  {
   "cell_type": "code",
   "execution_count": null,
   "metadata": {},
   "outputs": [],
   "source": []
  },
  {
   "cell_type": "markdown",
   "metadata": {},
   "source": [
    "# Project Prototype "
   ]
  },
  {
   "cell_type": "code",
   "execution_count": 2,
   "metadata": {},
   "outputs": [
    {
     "name": "stdout",
     "output_type": "stream",
     "text": [
      "      Unnamed: 0   ParentLocation    Location  Period         Sex  \\\n",
      "0              0         Americas    Barbados    2016  Both sexes   \n",
      "1              1           Europe      Serbia    2016  Both sexes   \n",
      "2              2           Europe      Turkey    2016  Both sexes   \n",
      "3              3           Europe    Slovakia    2016  Both sexes   \n",
      "4              4  Western Pacific       Samoa    2016  Both sexes   \n",
      "...          ...              ...         ...     ...         ...   \n",
      "3106        3106           Europe     Germany    2000  Both sexes   \n",
      "3107        3107           Europe      France    2000  Both sexes   \n",
      "3108        3108           Europe     Belgium    2000  Both sexes   \n",
      "3109        3109           Europe     Denmark    2000  Both sexes   \n",
      "3110        3110         Americas  Costa Rica    2000  Both sexes   \n",
      "\n",
      "      Adult mortality rate              DateModified  \n",
      "0                   100.40  2018-05-06T18:30:00.000Z  \n",
      "1                   102.50  2018-05-06T18:30:00.000Z  \n",
      "2                   104.00  2018-05-06T18:30:00.000Z  \n",
      "3                   104.10  2018-05-06T18:30:00.000Z  \n",
      "4                   110.40  2018-05-06T18:30:00.000Z  \n",
      "...                    ...                       ...  \n",
      "3106                 95.18  2018-05-06T18:30:00.000Z  \n",
      "3107                 99.17  2018-05-06T18:30:00.000Z  \n",
      "3108                 99.35  2018-05-06T18:30:00.000Z  \n",
      "3109                 99.82  2018-05-06T18:30:00.000Z  \n",
      "3110                 99.88  2018-05-06T18:30:00.000Z  \n",
      "\n",
      "[3111 rows x 7 columns]\n"
     ]
    }
   ],
   "source": [
    "\n",
    "\n",
    "import pandas as pd\n",
    "Mortality = pd.read_csv(\"Mortality Both Sexes.csv\")\n",
    "MortalityF = pd.read_csv(\"Mortality Female.csv\")\n",
    "MortalityM = pd.read_csv(\"Mortality Male.csv\")\n",
    "Alcohol = pd.read_csv(\"WHOAlcoholTotalPerCapita_2021-09-20v2.csv\")\n",
    "\n",
    "print(Mortality)\n",
    "print(Alcohol)\n",
    "\n",
    "\n",
    "\n"
   ]
  },
  {
   "cell_type": "markdown",
   "metadata": {},
   "source": [
    "### Question 1\n"
   ]
  },
  {
   "cell_type": "code",
   "execution_count": 3,
   "metadata": {},
   "outputs": [
    {
     "name": "stdout",
     "output_type": "stream",
     "text": [
      "                                     Unnamed: 0  Period  Adult mortality rate\n",
      "Location                                                                     \n",
      "Afghanistan                         1566.411765  2008.0            266.335294\n",
      "Albania                             1496.882353  2008.0            101.574706\n",
      "Algeria                             1516.235294  2008.0            113.668824\n",
      "Angola                              1575.235294  2008.0            297.294118\n",
      "Antigua and Barbuda                 1495.117647  2008.0            140.858824\n",
      "...                                         ...     ...                   ...\n",
      "Venezuela (Bolivarian Republic of)  1517.647059  2008.0            166.700000\n",
      "Viet Nam                            1488.882353  2008.0            133.300000\n",
      "Yemen                               1556.235294  2008.0            239.388235\n",
      "Zambia                              1597.705882  2008.0            446.694118\n",
      "Zimbabwe                            1606.529412  2008.0            549.347059\n",
      "\n",
      "[183 rows x 3 columns]\n"
     ]
    }
   ],
   "source": [
    "\n"
   ]
  },
  {
   "cell_type": "markdown",
   "metadata": {},
   "source": [
    "### Question 2"
   ]
  },
  {
   "cell_type": "code",
   "execution_count": null,
   "metadata": {},
   "outputs": [],
   "source": [
    "byLocation = Mortality.groupby('Location').mean()\n",
    "print(byLocation)"
   ]
  },
  {
   "cell_type": "markdown",
   "metadata": {},
   "source": [
    "### Question 3\n"
   ]
  },
  {
   "cell_type": "code",
   "execution_count": null,
   "metadata": {},
   "outputs": [],
   "source": []
  },
  {
   "cell_type": "markdown",
   "metadata": {},
   "source": [
    "### Question 4"
   ]
  },
  {
   "cell_type": "code",
   "execution_count": null,
   "metadata": {},
   "outputs": [],
   "source": []
  }
 ],
 "metadata": {
  "kernelspec": {
   "display_name": "Python 3 (ipykernel)",
   "language": "python",
   "name": "python3"
  },
  "language_info": {
   "codemirror_mode": {
    "name": "ipython",
    "version": 3
   },
   "file_extension": ".py",
   "mimetype": "text/x-python",
   "name": "python",
   "nbconvert_exporter": "python",
   "pygments_lexer": "ipython3",
   "version": "3.9.10"
  }
 },
 "nbformat": 4,
 "nbformat_minor": 4
}
